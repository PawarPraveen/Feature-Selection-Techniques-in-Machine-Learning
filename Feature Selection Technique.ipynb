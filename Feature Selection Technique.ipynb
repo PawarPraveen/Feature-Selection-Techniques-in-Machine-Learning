{
 "cells": [
  {
   "cell_type": "code",
   "execution_count": 2,
   "id": "7c76ca06",
   "metadata": {},
   "outputs": [
    {
     "name": "stdout",
     "output_type": "stream",
     "text": [
      "                Bedrooms  Bathrooms  Square Footage     Price\n",
      "Bedrooms        1.000000   1.000000        0.989044  0.983282\n",
      "Bathrooms       1.000000   1.000000        0.989044  0.983282\n",
      "Square Footage  0.989044   0.989044        1.000000  0.999389\n",
      "Price           0.983282   0.983282        0.999389  1.000000\n"
     ]
    }
   ],
   "source": [
    "# Correlation Matrix In Python\n",
    "\n",
    "\n",
    "import pandas as pd\n",
    " \n",
    "# Sample housing dataset\n",
    "data = {\n",
    "    'Bedrooms': [2, 3, 4, 3, 5],\n",
    "    'Bathrooms': [1, 2, 3, 2, 4],\n",
    "    'Square Footage': [1000, 1500, 2000, 1300, 2500],\n",
    "    'Price': [200000, 300000, 400000, 250000, 500000]\n",
    "}\n",
    " \n",
    "# Convert to DataFrame\n",
    "df = pd.DataFrame(data)\n",
    "\n",
    "corr_relation = df.corr()\n",
    "\n",
    "print(corr_relation)"
   ]
  },
  {
   "cell_type": "code",
   "execution_count": 5,
   "id": "020dbae6",
   "metadata": {},
   "outputs": [
    {
     "data": {
      "text/html": [
       "<div>\n",
       "<style scoped>\n",
       "    .dataframe tbody tr th:only-of-type {\n",
       "        vertical-align: middle;\n",
       "    }\n",
       "\n",
       "    .dataframe tbody tr th {\n",
       "        vertical-align: top;\n",
       "    }\n",
       "\n",
       "    .dataframe thead th {\n",
       "        text-align: right;\n",
       "    }\n",
       "</style>\n",
       "<table border=\"1\" class=\"dataframe\">\n",
       "  <thead>\n",
       "    <tr style=\"text-align: right;\">\n",
       "      <th></th>\n",
       "      <th>Feature</th>\n",
       "      <th>F-value</th>\n",
       "      <th>P-value</th>\n",
       "    </tr>\n",
       "  </thead>\n",
       "  <tbody>\n",
       "    <tr>\n",
       "      <th>0</th>\n",
       "      <td>Bedrooms</td>\n",
       "      <td>87.48</td>\n",
       "      <td>0.002588</td>\n",
       "    </tr>\n",
       "    <tr>\n",
       "      <th>1</th>\n",
       "      <td>Bathrooms</td>\n",
       "      <td>87.48</td>\n",
       "      <td>0.002588</td>\n",
       "    </tr>\n",
       "  </tbody>\n",
       "</table>\n",
       "</div>"
      ],
      "text/plain": [
       "     Feature  F-value   P-value\n",
       "0   Bedrooms    87.48  0.002588\n",
       "1  Bathrooms    87.48  0.002588"
      ]
     },
     "execution_count": 5,
     "metadata": {},
     "output_type": "execute_result"
    }
   ],
   "source": [
    "# ANOVA (Analysis of Variance) in Python -> continuous target varible\n",
    "\n",
    "\n",
    "from sklearn.feature_selection import f_regression \n",
    "\n",
    "# Sample housing dataset\n",
    "data = {\n",
    "    'Bedrooms': [2, 3, 4, 3, 5],\n",
    "    'Bathrooms': [1, 2, 3, 2, 4],\n",
    "    'Price': [200000, 300000, 400000, 250000, 500000]\n",
    "}\n",
    " \n",
    "# Convert to DataFrame\n",
    "df = pd.DataFrame(data)\n",
    "\n",
    "X = df[['Bedrooms', 'Bathrooms']]\n",
    "y = df['Price']\n",
    "\n",
    "\n",
    "# Perform ANOVA F-test -> target attribute is continuous if -> its categorical use ->f_classif\n",
    "f_value, p_value = f_regression(X, y)\n",
    "\n",
    "\n",
    "anova_feature = pd.DataFrame({\n",
    "    'Feature' : ['Bedrooms', 'Bathrooms'],\n",
    "    'F-value' : f_value,\n",
    "    'P-value' : p_value\n",
    "})\n",
    "\n",
    "anova_feature"
   ]
  },
  {
   "cell_type": "code",
   "execution_count": 7,
   "id": "fb95b076",
   "metadata": {},
   "outputs": [
    {
     "data": {
      "text/html": [
       "<div>\n",
       "<style scoped>\n",
       "    .dataframe tbody tr th:only-of-type {\n",
       "        vertical-align: middle;\n",
       "    }\n",
       "\n",
       "    .dataframe tbody tr th {\n",
       "        vertical-align: top;\n",
       "    }\n",
       "\n",
       "    .dataframe thead th {\n",
       "        text-align: right;\n",
       "    }\n",
       "</style>\n",
       "<table border=\"1\" class=\"dataframe\">\n",
       "  <thead>\n",
       "    <tr style=\"text-align: right;\">\n",
       "      <th></th>\n",
       "      <th>Feature</th>\n",
       "      <th>F-value</th>\n",
       "      <th>P-value</th>\n",
       "    </tr>\n",
       "  </thead>\n",
       "  <tbody>\n",
       "    <tr>\n",
       "      <th>0</th>\n",
       "      <td>Bedrooms</td>\n",
       "      <td>87.48</td>\n",
       "      <td>0.002588</td>\n",
       "    </tr>\n",
       "    <tr>\n",
       "      <th>1</th>\n",
       "      <td>Bathrooms</td>\n",
       "      <td>87.48</td>\n",
       "      <td>0.002588</td>\n",
       "    </tr>\n",
       "  </tbody>\n",
       "</table>\n",
       "</div>"
      ],
      "text/plain": [
       "     Feature  F-value   P-value\n",
       "0   Bedrooms    87.48  0.002588\n",
       "1  Bathrooms    87.48  0.002588"
      ]
     },
     "execution_count": 7,
     "metadata": {},
     "output_type": "execute_result"
    }
   ],
   "source": [
    "# ANOVA (Analysis of Variance) in Python -> continuous target varible\n",
    "\n",
    "from sklearn.feature_selection import f_classif\n",
    "\n",
    "# Example dataset (target is categorical)\n",
    "data = {\n",
    "    'Age': [25, 45, 35, 33, 23, 36, 52],\n",
    "    'Salary': [50000, 100000, 75000, 72000, 48000, 81000, 120000],\n",
    "    'Purchased': [0, 1, 0, 0, 0, 1, 1]  # Categorical target: 0 = No, 1 = Yes\n",
    "}\n",
    "\n",
    "df = pd.DataFrame(data)\n",
    "\n",
    "X = df[['Age', 'Salary']]\n",
    "y = df['Purchased']\n",
    "\n",
    "f_value, p_value = f_classif(X,y)\n",
    "\n",
    "anova_featue = pd.DataFrame({\n",
    "    'Feature' : ['Age', 'Salary'],\n",
    "     'F_value' : f_value,\n",
    "    'P_value' : p_value\n",
    "})\n",
    "\n",
    "anova_feature"
   ]
  },
  {
   "cell_type": "code",
   "execution_count": null,
   "id": "3632ee7a",
   "metadata": {},
   "outputs": [],
   "source": []
  }
 ],
 "metadata": {
  "kernelspec": {
   "display_name": "Python 3 (ipykernel)",
   "language": "python",
   "name": "python3"
  },
  "language_info": {
   "codemirror_mode": {
    "name": "ipython",
    "version": 3
   },
   "file_extension": ".py",
   "mimetype": "text/x-python",
   "name": "python",
   "nbconvert_exporter": "python",
   "pygments_lexer": "ipython3",
   "version": "3.10.9"
  }
 },
 "nbformat": 4,
 "nbformat_minor": 5
}
